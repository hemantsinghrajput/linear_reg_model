{
  "nbformat": 4,
  "nbformat_minor": 0,
  "metadata": {
    "colab": {
      "provenance": []
    },
    "kernelspec": {
      "name": "python3",
      "display_name": "Python 3"
    },
    "language_info": {
      "name": "python"
    }
  },
  "cells": [
    {
      "cell_type": "code",
      "execution_count": 770,
      "metadata": {
        "id": "25_niz5qn5dS"
      },
      "outputs": [],
      "source": [
        "import numpy as np\n",
        "import pandas as pd\n",
        "from sklearn.linear_model import LinearRegression\n",
        "from sklearn.model_selection import train_test_split\n",
        "from sklearn.preprocessing import StandardScaler\n",
        "from sklearn.pipeline import Pipeline\n",
        "from sklearn.model_selection import GridSearchCV\n",
        "from sklearn.metrics import mean_squared_error, r2_score\n",
        "from scipy import stats\n",
        "from sklearn.preprocessing import PolynomialFeatures\n"
      ]
    },
    {
      "cell_type": "code",
      "source": [
        "# Load the data into a pandas DataFrame\n",
        "data = pd.read_csv(\"/content/dataframe_.csv\")"
      ],
      "metadata": {
        "id": "SBpNgSYDsVdV"
      },
      "execution_count": 771,
      "outputs": []
    },
    {
      "cell_type": "code",
      "source": [
        "data"
      ],
      "metadata": {
        "colab": {
          "base_uri": "https://localhost:8080/",
          "height": 424
        },
        "id": "2XxCNsOpsXbN",
        "outputId": "64bc69d1-9606-4a21-8a07-00fb547cee91"
      },
      "execution_count": 772,
      "outputs": [
        {
          "output_type": "execute_result",
          "data": {
            "text/plain": [
              "           input      output\n",
              "0    -122.740667 -130.572085\n",
              "1    -121.531419 -129.938929\n",
              "2    -134.917019 -130.141832\n",
              "3    -120.605951 -125.760932\n",
              "4    -129.894781 -112.785214\n",
              "...          ...         ...\n",
              "1692   25.410184  -76.380902\n",
              "1693   29.537304  -82.796934\n",
              "1694   31.633331  -87.000000\n",
              "1695   29.091458 -104.943052\n",
              "1696   17.145296 -101.726894\n",
              "\n",
              "[1697 rows x 2 columns]"
            ],
            "text/html": [
              "\n",
              "  <div id=\"df-3ebb1a97-fd55-4b8c-9d71-d315cd866933\">\n",
              "    <div class=\"colab-df-container\">\n",
              "      <div>\n",
              "<style scoped>\n",
              "    .dataframe tbody tr th:only-of-type {\n",
              "        vertical-align: middle;\n",
              "    }\n",
              "\n",
              "    .dataframe tbody tr th {\n",
              "        vertical-align: top;\n",
              "    }\n",
              "\n",
              "    .dataframe thead th {\n",
              "        text-align: right;\n",
              "    }\n",
              "</style>\n",
              "<table border=\"1\" class=\"dataframe\">\n",
              "  <thead>\n",
              "    <tr style=\"text-align: right;\">\n",
              "      <th></th>\n",
              "      <th>input</th>\n",
              "      <th>output</th>\n",
              "    </tr>\n",
              "  </thead>\n",
              "  <tbody>\n",
              "    <tr>\n",
              "      <th>0</th>\n",
              "      <td>-122.740667</td>\n",
              "      <td>-130.572085</td>\n",
              "    </tr>\n",
              "    <tr>\n",
              "      <th>1</th>\n",
              "      <td>-121.531419</td>\n",
              "      <td>-129.938929</td>\n",
              "    </tr>\n",
              "    <tr>\n",
              "      <th>2</th>\n",
              "      <td>-134.917019</td>\n",
              "      <td>-130.141832</td>\n",
              "    </tr>\n",
              "    <tr>\n",
              "      <th>3</th>\n",
              "      <td>-120.605951</td>\n",
              "      <td>-125.760932</td>\n",
              "    </tr>\n",
              "    <tr>\n",
              "      <th>4</th>\n",
              "      <td>-129.894781</td>\n",
              "      <td>-112.785214</td>\n",
              "    </tr>\n",
              "    <tr>\n",
              "      <th>...</th>\n",
              "      <td>...</td>\n",
              "      <td>...</td>\n",
              "    </tr>\n",
              "    <tr>\n",
              "      <th>1692</th>\n",
              "      <td>25.410184</td>\n",
              "      <td>-76.380902</td>\n",
              "    </tr>\n",
              "    <tr>\n",
              "      <th>1693</th>\n",
              "      <td>29.537304</td>\n",
              "      <td>-82.796934</td>\n",
              "    </tr>\n",
              "    <tr>\n",
              "      <th>1694</th>\n",
              "      <td>31.633331</td>\n",
              "      <td>-87.000000</td>\n",
              "    </tr>\n",
              "    <tr>\n",
              "      <th>1695</th>\n",
              "      <td>29.091458</td>\n",
              "      <td>-104.943052</td>\n",
              "    </tr>\n",
              "    <tr>\n",
              "      <th>1696</th>\n",
              "      <td>17.145296</td>\n",
              "      <td>-101.726894</td>\n",
              "    </tr>\n",
              "  </tbody>\n",
              "</table>\n",
              "<p>1697 rows × 2 columns</p>\n",
              "</div>\n",
              "      <button class=\"colab-df-convert\" onclick=\"convertToInteractive('df-3ebb1a97-fd55-4b8c-9d71-d315cd866933')\"\n",
              "              title=\"Convert this dataframe to an interactive table.\"\n",
              "              style=\"display:none;\">\n",
              "        \n",
              "  <svg xmlns=\"http://www.w3.org/2000/svg\" height=\"24px\"viewBox=\"0 0 24 24\"\n",
              "       width=\"24px\">\n",
              "    <path d=\"M0 0h24v24H0V0z\" fill=\"none\"/>\n",
              "    <path d=\"M18.56 5.44l.94 2.06.94-2.06 2.06-.94-2.06-.94-.94-2.06-.94 2.06-2.06.94zm-11 1L8.5 8.5l.94-2.06 2.06-.94-2.06-.94L8.5 2.5l-.94 2.06-2.06.94zm10 10l.94 2.06.94-2.06 2.06-.94-2.06-.94-.94-2.06-.94 2.06-2.06.94z\"/><path d=\"M17.41 7.96l-1.37-1.37c-.4-.4-.92-.59-1.43-.59-.52 0-1.04.2-1.43.59L10.3 9.45l-7.72 7.72c-.78.78-.78 2.05 0 2.83L4 21.41c.39.39.9.59 1.41.59.51 0 1.02-.2 1.41-.59l7.78-7.78 2.81-2.81c.8-.78.8-2.07 0-2.86zM5.41 20L4 18.59l7.72-7.72 1.47 1.35L5.41 20z\"/>\n",
              "  </svg>\n",
              "      </button>\n",
              "      \n",
              "  <style>\n",
              "    .colab-df-container {\n",
              "      display:flex;\n",
              "      flex-wrap:wrap;\n",
              "      gap: 12px;\n",
              "    }\n",
              "\n",
              "    .colab-df-convert {\n",
              "      background-color: #E8F0FE;\n",
              "      border: none;\n",
              "      border-radius: 50%;\n",
              "      cursor: pointer;\n",
              "      display: none;\n",
              "      fill: #1967D2;\n",
              "      height: 32px;\n",
              "      padding: 0 0 0 0;\n",
              "      width: 32px;\n",
              "    }\n",
              "\n",
              "    .colab-df-convert:hover {\n",
              "      background-color: #E2EBFA;\n",
              "      box-shadow: 0px 1px 2px rgba(60, 64, 67, 0.3), 0px 1px 3px 1px rgba(60, 64, 67, 0.15);\n",
              "      fill: #174EA6;\n",
              "    }\n",
              "\n",
              "    [theme=dark] .colab-df-convert {\n",
              "      background-color: #3B4455;\n",
              "      fill: #D2E3FC;\n",
              "    }\n",
              "\n",
              "    [theme=dark] .colab-df-convert:hover {\n",
              "      background-color: #434B5C;\n",
              "      box-shadow: 0px 1px 3px 1px rgba(0, 0, 0, 0.15);\n",
              "      filter: drop-shadow(0px 1px 2px rgba(0, 0, 0, 0.3));\n",
              "      fill: #FFFFFF;\n",
              "    }\n",
              "  </style>\n",
              "\n",
              "      <script>\n",
              "        const buttonEl =\n",
              "          document.querySelector('#df-3ebb1a97-fd55-4b8c-9d71-d315cd866933 button.colab-df-convert');\n",
              "        buttonEl.style.display =\n",
              "          google.colab.kernel.accessAllowed ? 'block' : 'none';\n",
              "\n",
              "        async function convertToInteractive(key) {\n",
              "          const element = document.querySelector('#df-3ebb1a97-fd55-4b8c-9d71-d315cd866933');\n",
              "          const dataTable =\n",
              "            await google.colab.kernel.invokeFunction('convertToInteractive',\n",
              "                                                     [key], {});\n",
              "          if (!dataTable) return;\n",
              "\n",
              "          const docLinkHtml = 'Like what you see? Visit the ' +\n",
              "            '<a target=\"_blank\" href=https://colab.research.google.com/notebooks/data_table.ipynb>data table notebook</a>'\n",
              "            + ' to learn more about interactive tables.';\n",
              "          element.innerHTML = '';\n",
              "          dataTable['output_type'] = 'display_data';\n",
              "          await google.colab.output.renderOutput(dataTable, element);\n",
              "          const docLink = document.createElement('div');\n",
              "          docLink.innerHTML = docLinkHtml;\n",
              "          element.appendChild(docLink);\n",
              "        }\n",
              "      </script>\n",
              "    </div>\n",
              "  </div>\n",
              "  "
            ]
          },
          "metadata": {},
          "execution_count": 772
        }
      ]
    },
    {
      "cell_type": "code",
      "source": [
        "data.isnull().sum()"
      ],
      "metadata": {
        "colab": {
          "base_uri": "https://localhost:8080/"
        },
        "id": "moKBQceioGus",
        "outputId": "ecd2b25e-e16f-465f-ae56-66f5e6f3dacb"
      },
      "execution_count": 773,
      "outputs": [
        {
          "output_type": "execute_result",
          "data": {
            "text/plain": [
              "input     1\n",
              "output    1\n",
              "dtype: int64"
            ]
          },
          "metadata": {},
          "execution_count": 773
        }
      ]
    },
    {
      "cell_type": "code",
      "source": [
        "data[\"input\"].fillna(0, inplace = True)\n",
        "data[\"output\"].fillna(0, inplace = True)"
      ],
      "metadata": {
        "id": "yF7ZME8NtXXy"
      },
      "execution_count": 774,
      "outputs": []
    },
    {
      "cell_type": "code",
      "source": [
        "data.isnull().sum()"
      ],
      "metadata": {
        "colab": {
          "base_uri": "https://localhost:8080/"
        },
        "id": "TKoeHXF9teM7",
        "outputId": "c7150c1b-1361-407c-95f6-93ae3c1f7331"
      },
      "execution_count": 775,
      "outputs": [
        {
          "output_type": "execute_result",
          "data": {
            "text/plain": [
              "input     0\n",
              "output    0\n",
              "dtype: int64"
            ]
          },
          "metadata": {},
          "execution_count": 775
        }
      ]
    },
    {
      "cell_type": "code",
      "source": [
        "import matplotlib.pyplot as plt\n",
        "\n",
        "\n",
        "# Plot a scatter plot of the relationship between the input and output columns\n",
        "plt.scatter(data[\"input\"], data[\"output\"])\n",
        "plt.xlabel(\"Input Column\")\n",
        "plt.ylabel(\"Output Column\")\n",
        "plt.title(\"Relationship between Input and Output Columns\")\n",
        "plt.show()"
      ],
      "metadata": {
        "colab": {
          "base_uri": "https://localhost:8080/",
          "height": 295
        },
        "id": "9cbUL5bP0Uf0",
        "outputId": "ab8b875b-8fc8-41ab-a8a6-dabffe1256cd"
      },
      "execution_count": 776,
      "outputs": [
        {
          "output_type": "display_data",
          "data": {
            "text/plain": [
              "<Figure size 432x288 with 1 Axes>"
            ],
            "image/png": "[encoded data removed]"
          },
          "metadata": {
            "needs_background": "light"
          }
        }
      ]
    },
    {
      "cell_type": "code",
      "source": [
        "# Outlier Detection and Treatment\n",
        "# Remove rows with extreme values in the input and output columns\n",
        "z = np.abs(stats.zscore(data))\n",
        "data = data[(z < 3).all(axis=1)]"
      ],
      "metadata": {
        "id": "imz2JHwPwVTI"
      },
      "execution_count": 777,
      "outputs": []
    },
    {
      "cell_type": "code",
      "source": [
        "import seaborn as sns\n",
        "sns.boxplot(data['output'])"
      ],
      "metadata": {
        "colab": {
          "base_uri": "https://localhost:8080/",
          "height": 351
        },
        "id": "3DCmoa9s0jpN",
        "outputId": "5b9e0164-e959-408a-ed3f-2fa0b81373a7"
      },
      "execution_count": 778,
      "outputs": [
        {
          "output_type": "stream",
          "name": "stderr",
          "text": [
            "/usr/local/lib/python3.8/dist-packages/seaborn/_decorators.py:36: FutureWarning: Pass the following variable as a keyword arg: x. From version 0.12, the only valid positional argument will be `data`, and passing other arguments without an explicit keyword will result in an error or misinterpretation.\n",
            "  warnings.warn(\n"
          ]
        },
        {
          "output_type": "execute_result",
          "data": {
            "text/plain": [
              "<matplotlib.axes._subplots.AxesSubplot at 0x7f49f2beccd0>"
            ]
          },
          "metadata": {},
          "execution_count": 778
        },
        {
          "output_type": "display_data",
          "data": {
            "text/plain": [
              "<Figure size 432x288 with 1 Axes>"
            ],
            "image/png": "[encoded data removed]"
          },
          "metadata": {
            "needs_background": "light"
          }
        }
      ]
    },
    {
      "cell_type": "code",
      "source": [
        "Q1=data.output.quantile(0.25)\n",
        "Q3=data.output.quantile(0.75)\n",
        "IQR=Q3-Q1\n",
        "print(IQR)\n",
        "print(data.output.quantile(0.50))"
      ],
      "metadata": {
        "colab": {
          "base_uri": "https://localhost:8080/"
        },
        "id": "wmGKbGOe0z3z",
        "outputId": "85aa81ab-5ce4-4581-97f0-40790dac3496"
      },
      "execution_count": 779,
      "outputs": [
        {
          "output_type": "stream",
          "name": "stdout",
          "text": [
            "69.02676665\n",
            "-50.37684999\n"
          ]
        }
      ]
    },
    {
      "cell_type": "code",
      "source": [
        "# Upper bound\n",
        "upper = np.where(data['output'] >= (Q3+1.5*IQR))\n",
        "# Lower bound\n",
        "lower = np.where(data['output'] <= (Q1-1.5*IQR))\n",
        " \n",
        "''' Removing the Outliers '''\n",
        "data.drop(upper[0], inplace = True)\n",
        "data.drop(lower[0], inplace = True)\n",
        " \n",
        "print(\"New Shape: \", data.shape)"
      ],
      "metadata": {
        "colab": {
          "base_uri": "https://localhost:8080/"
        },
        "id": "rJIKlT9h1q6x",
        "outputId": "58340c9a-8c2e-4d88-cea5-7bcfef3bcd7f"
      },
      "execution_count": 780,
      "outputs": [
        {
          "output_type": "stream",
          "name": "stdout",
          "text": [
            "New Shape:  (1553, 2)\n"
          ]
        }
      ]
    },
    {
      "cell_type": "code",
      "source": [
        "# Feature Engineering\n",
        "# Add a new column that is the square of the input column\n",
        "data[\"input_column_squared\"] = data[\"input\"] ** 2"
      ],
      "metadata": {
        "id": "jvvCGZFsv62Y"
      },
      "execution_count": 781,
      "outputs": []
    },
    {
      "cell_type": "code",
      "source": [
        "# Split the data into input and output columns\n",
        "X = data[[\"input\", \"input_column_squared\"]]\n",
        "y = data[\"output\"]"
      ],
      "metadata": {
        "id": "wwaNCo1-pc7h"
      },
      "execution_count": 782,
      "outputs": []
    },
    {
      "cell_type": "code",
      "source": [
        "# Split the data into training and testing sets\n",
        "X_train, X_test, y_train, y_test = train_test_split(X, y, test_size=0.2, random_state=25)\n",
        "\n"
      ],
      "metadata": {
        "id": "fqWreiTRp2be"
      },
      "execution_count": 783,
      "outputs": []
    },
    {
      "cell_type": "code",
      "source": [
        "# Create two pipelines: one that uses linear regression and one that uses polynomial regression\n",
        "pipe1 = Pipeline([\n",
        "    (\"scaler\", StandardScaler()),\n",
        "    (\"regressor\", LinearRegression())\n",
        "])\n",
        "\n",
        "pipe2 = Pipeline([\n",
        "    (\"scaler\", StandardScaler()),\n",
        "    (\"regressor\", PolynomialFeatures(degree=6)),\n",
        "    (\"linear_reg\", LinearRegression())\n",
        "])"
      ],
      "metadata": {
        "id": "85iieAATu1ja"
      },
      "execution_count": 784,
      "outputs": []
    },
    {
      "cell_type": "code",
      "source": [
        "# Train the models on the training data\n",
        "pipe1.fit(X_train, y_train)\n",
        "pipe2.fit(X_train, y_train)\n"
      ],
      "metadata": {
        "colab": {
          "base_uri": "https://localhost:8080/"
        },
        "id": "88vUW9Lvp67A",
        "outputId": "0b003b01-835b-4ec8-aee5-c10b3d3de01f"
      },
      "execution_count": 785,
      "outputs": [
        {
          "output_type": "execute_result",
          "data": {
            "text/plain": [
              "Pipeline(steps=[('scaler', StandardScaler()),\n",
              "                ('regressor', PolynomialFeatures(degree=6)),\n",
              "                ('linear_reg', LinearRegression())])"
            ]
          },
          "metadata": {},
          "execution_count": 785
        }
      ]
    },
    {
      "cell_type": "code",
      "source": [
        "# Use the models to make predictions on the test data\n",
        "y_pred1 = pipe1.predict(X_test)\n",
        "y_pred2 = pipe2.predict(X_test)"
      ],
      "metadata": {
        "id": "mpfylfwCtGg1"
      },
      "execution_count": 786,
      "outputs": []
    },
    {
      "cell_type": "code",
      "source": [
        "# Evaluate the models' performance\n",
        "mse1 = mean_squared_error(y_test, y_pred1)\n",
        "mse2 = mean_squared_error(y_test, y_pred2)\n",
        "\n",
        "print(\"Model 1 Mean Squared Error:\", mse1)\n",
        "print(\"Model 2 Mean Squared Error:\", mse2)\n",
        "\n",
        "if mse1 < mse2:\n",
        "    print(\"Model 1 is better than Model 2\")"
      ],
      "metadata": {
        "colab": {
          "base_uri": "https://localhost:8080/"
        },
        "id": "ByCUZZCptJzj",
        "outputId": "6c2b897d-774e-4d6d-f3fc-76b2001fa7d3"
      },
      "execution_count": 787,
      "outputs": [
        {
          "output_type": "stream",
          "name": "stdout",
          "text": [
            "Model 1 Mean Squared Error: 1101.1293101816325\n",
            "Model 2 Mean Squared Error: 367.17854082994563\n"
          ]
        }
      ]
    },
    {
      "cell_type": "code",
      "source": [
        "if mse1 < mse2:\n",
        "    print(\"Model 1 is better than Model 2\")\n",
        "else:\n",
        "    print(\"Model 2 is better than Model 1\")\n",
        "\n",
        "r2 = r2_score(y_test, y_pred1)\n",
        "print(r2)\n",
        "r2_ = r2_score(y_test, y_pred2)\n",
        "print(r2_)"
      ],
      "metadata": {
        "colab": {
          "base_uri": "https://localhost:8080/"
        },
        "id": "a6Je4G0SuNqr",
        "outputId": "d8fc9077-840c-4ca2-cb7f-db65c6ac5f17"
      },
      "execution_count": 788,
      "outputs": [
        {
          "output_type": "stream",
          "name": "stdout",
          "text": [
            "Model 2 is better than Model 1\n",
            "0.5559289570821326\n",
            "0.8519216988815611\n"
          ]
        }
      ]
    },
    {
      "cell_type": "code",
      "source": [
        "import pickle\n",
        "pickle.dump(pipe2, open('model1.pkl', 'wb'))"
      ],
      "metadata": {
        "id": "O1qRxnEfuQaw"
      },
      "execution_count": 789,
      "outputs": []
    },
    {
      "cell_type": "code",
      "source": [
        "# load the model from disk\n",
        "loaded_model = pickle.load(open('model1.pkl', 'rb'))\n",
        "result = loaded_model.score(X_test, y_test)\n",
        "print(result)"
      ],
      "metadata": {
        "colab": {
          "base_uri": "https://localhost:8080/"
        },
        "id": "BfJXfAR4wnFi",
        "outputId": "17b8fbb5-b1bb-4c51-d9c8-14ef4a1480b6"
      },
      "execution_count": 790,
      "outputs": [
        {
          "output_type": "stream",
          "name": "stdout",
          "text": [
            "0.8519216988815611\n"
          ]
        }
      ]
    },
    {
      "cell_type": "code",
      "source": [],
      "metadata": {
        "id": "YI4egOl6wrtG"
      },
      "execution_count": 790,
      "outputs": []
    }
  ]
}